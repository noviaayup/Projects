{
  "nbformat": 4,
  "nbformat_minor": 0,
  "metadata": {
    "colab": {
      "name": "Copy of Ex_1.ipynb",
      "provenance": [],
      "collapsed_sections": [],
      "include_colab_link": true
    },
    "kernelspec": {
      "name": "python3",
      "display_name": "Python 3"
    }
  },
  "cells": [
    {
      "cell_type": "markdown",
      "metadata": {
        "id": "view-in-github",
        "colab_type": "text"
      },
      "source": [
        "<a href=\"https://colab.research.google.com/github/noviaayup/novice1/blob/master/Bonus%20Exercise%20-%20Python.ipynb\" target=\"_parent\"><img src=\"https://colab.research.google.com/assets/colab-badge.svg\" alt=\"Open In Colab\"/></a>"
      ]
    },
    {
      "cell_type": "markdown",
      "metadata": {
        "id": "A7pnoCHazuck",
        "colab_type": "text"
      },
      "source": [
        "We will use the Colab Python computational environment for the experiment in this subject. Refer to [this nice introduction](https://colab.research.google.com/notebooks/intro.ipynb#) for a comprehensive overview of the environment as well as further references to doing machine learning using Python in Colab."
      ]
    },
    {
      "cell_type": "markdown",
      "metadata": {
        "id": "d_GWaPbu13Uv",
        "colab_type": "text"
      },
      "source": [
        "This notebook is to get us familiarised with using Python to process data. We will dive into an example of building projectors for a dataset. We will explain nontrivial python features while running into them and have most of the Python codes either self-explanatory or with comments for beginners. If you are confused at a point about the Python language, and looking for a more \"linear\" introduction, check out (and bookmark) [this tutorial](https://colab.research.google.com/github/cs231n/cs231n.github.io/blob/master/python-colab.ipynb) as a reference to the language. \n",
        "\n",
        "HINT: Because now you are viewing a local copy of this notebook in your Google Drive, feel free to edit and play with the notes and codes. This is __your__ notebook. _Double Click Here_ to see how to take notes with this convenient tool, including embedding [links](https://www.markdowntutorial.com/) and insert math symbols like $x$, $y$ or a function $f: \\mathbf X \\rightarrow Y$."
      ]
    },
    {
      "cell_type": "markdown",
      "metadata": {
        "id": "KG92x-nr0AJs",
        "colab_type": "text"
      },
      "source": [
        "# A taste of building a predictor from data"
      ]
    },
    {
      "cell_type": "markdown",
      "metadata": {
        "id": "nryNLEBbzgv9",
        "colab_type": "text"
      },
      "source": [
        "We start with our old friend Iris dataset (You should have encountered it in a pre-requisite data analytics subject. If you are not don't panic -- this example will walk you through the data and the task.) Basically we are given a set of iris flower data samples, each has four attributes to describe the shape of the flower. The task is to determine the species of the flour according to the shape attributes."
      ]
    },
    {
      "cell_type": "markdown",
      "metadata": {
        "id": "4N7PjpY_0NHp",
        "colab_type": "text"
      },
      "source": [
        "## A small but practical dataset: Iris flowers"
      ]
    },
    {
      "cell_type": "markdown",
      "metadata": {
        "id": "jjYIoPYg6dV4",
        "colab_type": "text"
      },
      "source": [
        "The dataset is a text-book example and widely used in machine learning. Instead of downloading from the Internet and perform pre-processing, we will use a prepared version of the dataset provided by the scientific learning `scikit-learn` library of Python. \n",
        "\n",
        "> The Python backend of Colab (called a \"kernel\") is a comprehensive version with many useful libraries installed, including `scikit-learn`. Be aware that the library is known within Python as `sklearn` (The operating system and Python \"know\" the same library with different names)\n",
        "\n"
      ]
    },
    {
      "cell_type": "code",
      "metadata": {
        "id": "Cyf-uBvZ9zL6",
        "colab_type": "code",
        "colab": {}
      },
      "source": [
        "# You can tell Python to use a library by import\n",
        "# Try\n",
        "print(\"Hello, world.\")\n",
        "print(\"The ratio of a circle's circumference to its diameter is\", pi)\n",
        "# And try to interpret why you got an error."
      ],
      "execution_count": null,
      "outputs": []
    },
    {
      "cell_type": "code",
      "metadata": {
        "id": "gSBTb08n-eNs",
        "colab_type": "code",
        "colab": {}
      },
      "source": [
        "# Now use the math library, as it knows pi\n",
        "import math\n",
        "print(\"The ratio of a circle's circumference to its diameter is\", math.pi)\n",
        "# Note the \"math.\" before pi, since the identifier pi is defined within \n",
        "# \"math\"'s namespace. You can try to uncomment the following statement\n",
        "# and re-execute this code block to see the difference.\n",
        "\n",
        "# print(\"The ratio of a circle's circumference to its diameter is\", pi)\n",
        "#\n"
      ],
      "execution_count": null,
      "outputs": []
    },
    {
      "cell_type": "code",
      "metadata": {
        "id": "dzMngTHmAPMJ",
        "colab_type": "code",
        "colab": {}
      },
      "source": [
        "# Alternatively, we can import only a part of a library into the main namespace.\n",
        "# This is often useful when the library is big and complex.\n",
        "# \n",
        "# E.g. if you had tried the previous direct use of `pi` and got an error, try\n",
        "# the following:\n",
        "from math import pi\n",
        "print(pi)\n",
        "# This is what we will do in the next block to use the Iris data preparation \n",
        "# function of the scikit-learn library."
      ],
      "execution_count": null,
      "outputs": []
    },
    {
      "cell_type": "code",
      "metadata": {
        "id": "9SflUWoW4EZo",
        "colab_type": "code",
        "colab": {}
      },
      "source": [
        "from sklearn.datasets import load_iris\n",
        "iris = load_iris()\n",
        "# The iris is a \"dictionary\" object, basically it is a complex object with \n",
        "# a \"key-value\" structure. The values in an dictionary d can be assessed by \n",
        "# d[KEY]\n",
        "# where KEY is the value of the corresponding key. \n",
        "# -- how on earth do I know what `load_iris` will produce?\n",
        "# -- by reading the doc\n",
        "# But fortunately colab provides a handy way to read the doc, just \n",
        "# add a new code block in which, type\n",
        "# load_iris?\n",
        "# and execute (do not miss the question mark \"?\")\n",
        "\n",
        "X = iris['data']   # key names are strings, which can be quoted using either\n",
        "y = iris['target'] # double or single quotation marks -- so it makes things \n",
        "# easier when you want to mean the literal quotation mark symbol, see above\n",
        "# in the statement when we print out *... circle's ...*.\n",
        "\n",
        "# HINT: the above is equivalent to (and more often written as)\n",
        "# X, y = iris['data'], iris['target']\n",
        "# search for \"tuple\" and \"unpacking\" in Python for further ref.\n",
        "\n",
        "# Now let us check the data -- in Python you can almost `print` anything\n",
        "# so when encounter an unknown object the first-step investigation \n",
        "# is often to print it out.\n",
        "print(\"Data Attributes\")\n",
        "print(X)\n",
        "print(\"Targets\")\n",
        "print(y)\n",
        "\n",
        "# HINT: print-play in Python\n",
        "# Print even works for objects that you might not consider as printable\n",
        "# Try to uncomment and put in an extra code-block the following \n",
        "#\n",
        "# print(load_iris)\n",
        "#\n",
        "# the printable part is not very forthcoming, then try\n",
        "#\n",
        "# print(dir(load_iris))\n",
        "#\n",
        "# here we have a long list of mysteriously named methods provided by the \n",
        "# `load_iris` object. An often informative one is `__doc__`, it means the \n",
        "# document string of an object, by convention the developer should put \n",
        "# information that she wants the users to know here.\n",
        "#\n",
        "# print(load_iris.__doc__)\n",
        "#\n",
        "# Is the above print-out looking familiar?\n",
        "#\n",
        "# One more thing: there is also a `__call__` in the list. It just means that \n",
        "# this object is \"callable\" and thus being a \"function\" in common sense -- \n",
        "# it allows you \"call\" it by making a statement \"load_iris\" followed by \"()\"."
      ],
      "execution_count": null,
      "outputs": []
    },
    {
      "cell_type": "markdown",
      "metadata": {
        "id": "H82G-bL0N1j6",
        "colab_type": "text"
      },
      "source": [
        "## Working with data arrays"
      ]
    },
    {
      "cell_type": "markdown",
      "metadata": {
        "id": "7pCpsmU0OZ7j",
        "colab_type": "text"
      },
      "source": [
        "In addition to the `dir` command, we can also also investigate an object in Python by looking at its type. "
      ]
    },
    {
      "cell_type": "code",
      "metadata": {
        "id": "jYLdCEqSOlkB",
        "colab_type": "code",
        "colab": {}
      },
      "source": [
        "print(type(X)) # numpy.ndarray"
      ],
      "execution_count": null,
      "outputs": []
    },
    {
      "cell_type": "markdown",
      "metadata": {
        "id": "zQCrZ7L1OoeO",
        "colab_type": "text"
      },
      "source": [
        "We found that the type of the data is a `numpy.ndarray` -- an n-dimensional array managed by the library `numpy`. `numpy` has been internally imported by `scikit-learn`. We can also explicitly import it to use the functionalities by\n",
        "`import numpy`, or with a shortcut:"
      ]
    },
    {
      "cell_type": "code",
      "metadata": {
        "id": "UCTDrryWPLKF",
        "colab_type": "code",
        "colab": {}
      },
      "source": [
        "import numpy as np"
      ],
      "execution_count": null,
      "outputs": []
    },
    {
      "cell_type": "markdown",
      "metadata": {
        "id": "FL7uZ70KPTpY",
        "colab_type": "text"
      },
      "source": [
        "Numpy is a wrapper of and provides high-level API to a set of highly efficient numerical computation low-level libraries. So the basic operations provided by `numpy` are very useful in dealing with data. Also the similar API interface is shared among all industry-level high-performance computation facilities, including R, PyTorch, TensorFlow, Matlab etc.  You can find a generic introduction to `numpy` in the Python tutorial privided at the beginning of this notebook."
      ]
    },
    {
      "cell_type": "code",
      "metadata": {
        "id": "Wsza5PDLQ4rX",
        "colab_type": "code",
        "colab": {}
      },
      "source": [
        "# Let us check the \"shape\" of our data array, which provides a piece of primary \n",
        "# information given to data\n",
        "print(np.shape(X))\n",
        "# The `.shape` is also implemented as a self-object attribute of a numpy array\n",
        "# (not to be confused with data attribute!)\n",
        "print(X.shape) # this is more often"
      ],
      "execution_count": null,
      "outputs": []
    },
    {
      "cell_type": "markdown",
      "metadata": {
        "id": "v3shqEv_0ZqX",
        "colab_type": "text"
      },
      "source": [
        "Our data space $\\mathcal X$ consists of all objects that are described with 4 numbers, -- we call it $\\mathbb R^4$. A dataset from this data space will be a 2-D array (table) of $n$ (#.samples) rows and 4 columns. Arrays are ubiquitous objects used in data science. In Python, numerical arrays are usually managed by numerical computation libraries, in this case, `numpy`. You can check the data via array operations provided by `numpy`.\n",
        "\n"
      ]
    },
    {
      "cell_type": "code",
      "metadata": {
        "id": "MDTmyvgTRpE7",
        "colab_type": "code",
        "colab": {}
      },
      "source": [
        "# by futher finding out the shape of the targets, \n",
        "# we confirmed that there are 150 samples and 4 attributes per sample.\n",
        "print(y.shape)"
      ],
      "execution_count": null,
      "outputs": []
    },
    {
      "cell_type": "markdown",
      "metadata": {
        "id": "uU-SuHjGR4uN",
        "colab_type": "text"
      },
      "source": [
        "As a running example, we will simplify the problem by \n",
        "1. using only the first two attributes of the data, and \n",
        "2. taking out the samples belonging to the first two classesand making the problem a binary classification one -- to classify  setosa and versicolor (y==0 or y==1) .\n"
      ]
    },
    {
      "cell_type": "code",
      "metadata": {
        "id": "j796B1tyR1ry",
        "colab_type": "code",
        "colab": {}
      },
      "source": [
        "# Indexing-1: Basic\n",
        "\n",
        "# Elements in an array are assessed as follows:\n",
        "print(y[0]) # the first element, Python (and numpy) arrays start with element-0\n",
        "print(y[3]) # the 4-th element\n",
        "print(X[2, 1]) # by 2: take the 3-rd row, then by 1: take the 2nd element\n",
        "# check the results by \n",
        "# 1. print out the entire X and y, \n",
        "# 2. copy-and-paste the text to a separate file\n",
        "# 3. compare the element values"
      ],
      "execution_count": null,
      "outputs": []
    },
    {
      "cell_type": "code",
      "metadata": {
        "id": "zO1HduQ-TxdQ",
        "colab_type": "code",
        "colab": {}
      },
      "source": [
        "# Indexing-2: slicing\n",
        "\n",
        "print(y[1:4]) # 3 elements, the element-1, 2, 3 (non-inclusive of 4)\n",
        "print(y[0:3]) # 3 elements, the element-0, 1, 2 (non-inclusive of 3)\n",
        "print(y[:3])  # the same 3 elements, you can omit 0 if starting from there\n",
        "print(X[1, :2]) # the first 2 elements in row-1 (2nd row) of X\n",
        "print(X[1, 2:4]) # the element 2, 3 in row-1 of X\n",
        "print(X[1, 2:]) # the same two elements, you can omit the \"end\" (as 0 for start)\n",
        "print(X[1, :]) # if you omit both, you mean the entire row\n",
        "print(X[1]) # the same as above, the entire 2nd-row (row-1)\n",
        "print(X.shape) # (150, 4)\n",
        "print(X[1].shape) # one row of X: dimension - 1, (4, )\n",
        "# Add intuitive understanding is to think one dimension as one degree of freedom \n",
        "# to move about in an array -- in 2D array you can go in the direction of either \n",
        "# rows or columns, while in one 1-D array you can only move in one direction -- \n",
        "# by specifying one dimension (to be a fixed value), the degrees of freedom \n",
        "# reduce by one.\n",
        "print(X[5:10, 0]) # the first attribute (column) of sample (rows) 5, 6, 7, 8, 9\n",
        "print(X[5:10, 0].shape) # one-D array, 1-D array has no meaningful col/row\n"
      ],
      "execution_count": null,
      "outputs": []
    },
    {
      "cell_type": "code",
      "metadata": {
        "id": "ffPqXOVuXUHA",
        "colab_type": "code",
        "colab": {}
      },
      "source": [
        "# Indexing-3: \"advanced\"\n",
        "\n",
        "print(X[0, [0, 1, 2]]) # the 0, 1, 2 elements in row-0\n",
        "print(X[0, [0, 2]]) # the 0, 2 elements in row-0 -- now you can cherry-picking\n",
        "# there is a cost, refer to \"advanced indexing\" in numpy for more info."
      ],
      "execution_count": null,
      "outputs": []
    },
    {
      "cell_type": "code",
      "metadata": {
        "id": "H9mUPHABX8Bv",
        "colab_type": "code",
        "colab": {}
      },
      "source": [
        "# Indexing-4: Binary\n",
        "X_tmp = X[:6] # first 6 rows\n",
        "print(X_tmp)\n",
        "a0_tmp = X_tmp[:, 0] # first attribute of the 6 samples\n",
        "print(\"a0\", a0_tmp)\n",
        "print(\"a0 shape\", a0_tmp.shape)\n",
        "\n",
        "binary_index = np.array([True, False, False, True, True, True]) \n",
        "print(a0_tmp[binary_index]) # bin-index has the same size as the array-dimension \n",
        "# to be indexed\n",
        "\n",
        "print(X_tmp[binary_index]) # X_tmp has 6 rows, also indexable via the \n",
        "# binary array."
      ],
      "execution_count": null,
      "outputs": []
    },
    {
      "cell_type": "markdown",
      "metadata": {
        "id": "_rx4EG9eZDS0",
        "colab_type": "text"
      },
      "source": [
        "With this, let us take the first two attributes from the data:"
      ]
    },
    {
      "cell_type": "code",
      "metadata": {
        "id": "NZfYhTQ7ZgRQ",
        "colab_type": "code",
        "colab": {}
      },
      "source": [
        "X0 = X[:, 0]\n",
        "# [Exercise] Insert your code here\n",
        "# Let X1 to be the 2nd attribute of the flowers."
      ],
      "execution_count": null,
      "outputs": []
    },
    {
      "cell_type": "markdown",
      "metadata": {
        "id": "YVeovAWENnYo",
        "colab_type": "text"
      },
      "source": [
        "As we have discussed, one important condition for adopting learning-based modelling is that there must be some relationship between the observed and the targets to be discovered. To have a first impression, we use the visualisation library `matplotlib` to display a scatter plot of the samples (scattered w.r.t. the first two attributes) with colours showing their classes."
      ]
    },
    {
      "cell_type": "code",
      "metadata": {
        "id": "H0389Nnw5DuL",
        "colab_type": "code",
        "colab": {}
      },
      "source": [
        "import matplotlib.pyplot as plt\n",
        "plt.scatter(X0, X1, c=y) # use y (target) value as colors, as to why specific \n",
        "# color is assigned to class 0/1/2, they are prescribed internally, the colors\n",
        "# serve as tags to distinguish different classes, without real meaning.\n",
        "# You can specify the color-correspondence, refer to `matplotlib` documents\n",
        "# and search for \"colormap\" in interested. "
      ],
      "execution_count": null,
      "outputs": []
    },
    {
      "cell_type": "markdown",
      "metadata": {
        "id": "SXtMrvnfbBJb",
        "colab_type": "text"
      },
      "source": [
        "In the next, we do the 2nd simplification -- to keep only the first two classes of flowers."
      ]
    },
    {
      "cell_type": "code",
      "metadata": {
        "id": "VjbiAbLRbfR9",
        "colab_type": "code",
        "colab": {}
      },
      "source": [
        "print(y == 0) # numpy array takes \"==\" as element wise comparison\n",
        "# and returns a binary array\n",
        "\n",
        "two_class_index = np.logical_or(y == 0, y == 1) # the logical operation between \n",
        "# two binary arrays, it is the same as \n",
        "#\n",
        "# (y == 0) + (y == 1) # which is simplier to write\n",
        "#\n",
        "# as numpy re-defines \"+\" for binary arrays as element-wise logical-OR.\n",
        "\n",
        "# Now we are ready to prepare our simplified task:\n",
        "simple_X = X[two_class_index]\n",
        "simple_X = simple_X[:, 0:2]\n",
        "simple_y = y[two_class_index]\n",
        "print(simple_X.shape, simple_y.shape)"
      ],
      "execution_count": null,
      "outputs": []
    },
    {
      "cell_type": "markdown",
      "metadata": {
        "id": "q0SToKYIdOJp",
        "colab_type": "text"
      },
      "source": [
        "## Building learning-based models from scratch"
      ]
    },
    {
      "cell_type": "markdown",
      "metadata": {
        "id": "MF56ZSBGdZJE",
        "colab_type": "text"
      },
      "source": [
        "Now we are ready to go. Try to building a predictor $\\mathcal X \\mapsto \\mathcal Y$. First, let us examine our assumption (again) that the link between the observable data attributes and the target does exist."
      ]
    },
    {
      "cell_type": "code",
      "metadata": {
        "id": "H3ueizaTiC1J",
        "colab_type": "code",
        "colab": {}
      },
      "source": [
        "plt.scatter(simple_X[:, 0], simple_X[:, 1], c=simple_y)"
      ],
      "execution_count": null,
      "outputs": []
    },
    {
      "cell_type": "markdown",
      "metadata": {
        "id": "Y4z3nak03Bxc",
        "colab_type": "text"
      },
      "source": [
        "The mechanism to make output from an import in Python is implemented as a function.\n",
        "\n"
      ]
    },
    {
      "cell_type": "code",
      "metadata": {
        "id": "FnYlbfX7jKNx",
        "colab_type": "code",
        "colab": {}
      },
      "source": [
        "# An example function\n",
        "def predict_flower_class(x0, x1):\n",
        "    # just by looking at the figure above, I come up with some rules, such as \n",
        "    # if x0 > 6.5, the flower is vericolor\n",
        "    if x0 > 6.5:\n",
        "        predicted_class = 1\n",
        "    else:\n",
        "        predicted_class = 0\n",
        "    return predicted_class"
      ],
      "execution_count": null,
      "outputs": []
    },
    {
      "cell_type": "code",
      "metadata": {
        "id": "jHy7MpRNj-wr",
        "colab_type": "code",
        "colab": {}
      },
      "source": [
        "# A direct check of the performance\n",
        "for i in range(100):\n",
        "    x0 = simple_X[i, 0]\n",
        "    x1 = simple_X[i, 1]\n",
        "    print(predict_flower_class(x0, x1), y[i])"
      ],
      "execution_count": null,
      "outputs": []
    },
    {
      "cell_type": "code",
      "metadata": {
        "id": "GrL0x5ooj3W-",
        "colab_type": "code",
        "colab": {}
      },
      "source": [
        "# [Exercise] Make your own predictor and compute its accuracy\n",
        "def predict_flower_class_2(x0, x1):\n",
        "    # Insert your code here\n",
        "    return predicted_class\n",
        "\n",
        "# Compute accuracy\n",
        "corr_num = 0\n",
        "for i in range(100):\n",
        "    x0 = simple_X[i, 0]\n",
        "    x1 = simple_X[i, 1]\n",
        "    if predict_flower_class_2(x0, x1) == y[i]:\n",
        "        # Insert your code here\n",
        "print(\"Accuracy\", corr_num/100)"
      ],
      "execution_count": null,
      "outputs": []
    }
  ]
}